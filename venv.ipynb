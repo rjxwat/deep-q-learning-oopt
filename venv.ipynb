{
 "cells": [
  {
   "cell_type": "code",
   "execution_count": 2,
   "metadata": {},
   "outputs": [
    {
     "name": "stdout",
     "output_type": "stream",
     "text": [
      "Requirement already satisfied: numpy in c:\\users\\pranav.moothedath\\downloads\\abhay\\deep-q-learning-oopt\\.venv\\lib\\site-packages (from -r requirements.txt (line 1)) (2.3.1)\n",
      "Requirement already satisfied: pandas in c:\\users\\pranav.moothedath\\downloads\\abhay\\deep-q-learning-oopt\\.venv\\lib\\site-packages (from -r requirements.txt (line 2)) (2.3.0)\n",
      "Requirement already satisfied: torch in c:\\users\\pranav.moothedath\\downloads\\abhay\\deep-q-learning-oopt\\.venv\\lib\\site-packages (from -r requirements.txt (line 3)) (2.7.1)\n",
      "Requirement already satisfied: matplotlib in c:\\users\\pranav.moothedath\\downloads\\abhay\\deep-q-learning-oopt\\.venv\\lib\\site-packages (from -r requirements.txt (line 4)) (3.10.3)\n",
      "Requirement already satisfied: scipy in c:\\users\\pranav.moothedath\\downloads\\abhay\\deep-q-learning-oopt\\.venv\\lib\\site-packages (from -r requirements.txt (line 5)) (1.16.0)\n",
      "Requirement already satisfied: python-dateutil>=2.8.2 in c:\\users\\pranav.moothedath\\downloads\\abhay\\deep-q-learning-oopt\\.venv\\lib\\site-packages (from pandas->-r requirements.txt (line 2)) (2.9.0.post0)\n",
      "Requirement already satisfied: pytz>=2020.1 in c:\\users\\pranav.moothedath\\downloads\\abhay\\deep-q-learning-oopt\\.venv\\lib\\site-packages (from pandas->-r requirements.txt (line 2)) (2025.2)\n",
      "Requirement already satisfied: tzdata>=2022.7 in c:\\users\\pranav.moothedath\\downloads\\abhay\\deep-q-learning-oopt\\.venv\\lib\\site-packages (from pandas->-r requirements.txt (line 2)) (2025.2)\n",
      "Requirement already satisfied: filelock in c:\\users\\pranav.moothedath\\downloads\\abhay\\deep-q-learning-oopt\\.venv\\lib\\site-packages (from torch->-r requirements.txt (line 3)) (3.18.0)\n",
      "Requirement already satisfied: typing-extensions>=4.10.0 in c:\\users\\pranav.moothedath\\downloads\\abhay\\deep-q-learning-oopt\\.venv\\lib\\site-packages (from torch->-r requirements.txt (line 3)) (4.14.0)\n",
      "Requirement already satisfied: sympy>=1.13.3 in c:\\users\\pranav.moothedath\\downloads\\abhay\\deep-q-learning-oopt\\.venv\\lib\\site-packages (from torch->-r requirements.txt (line 3)) (1.14.0)\n",
      "Requirement already satisfied: networkx in c:\\users\\pranav.moothedath\\downloads\\abhay\\deep-q-learning-oopt\\.venv\\lib\\site-packages (from torch->-r requirements.txt (line 3)) (3.5)\n",
      "Requirement already satisfied: jinja2 in c:\\users\\pranav.moothedath\\downloads\\abhay\\deep-q-learning-oopt\\.venv\\lib\\site-packages (from torch->-r requirements.txt (line 3)) (3.1.6)\n",
      "Requirement already satisfied: fsspec in c:\\users\\pranav.moothedath\\downloads\\abhay\\deep-q-learning-oopt\\.venv\\lib\\site-packages (from torch->-r requirements.txt (line 3)) (2025.5.1)\n",
      "Requirement already satisfied: setuptools in c:\\users\\pranav.moothedath\\downloads\\abhay\\deep-q-learning-oopt\\.venv\\lib\\site-packages (from torch->-r requirements.txt (line 3)) (80.9.0)\n",
      "Requirement already satisfied: contourpy>=1.0.1 in c:\\users\\pranav.moothedath\\downloads\\abhay\\deep-q-learning-oopt\\.venv\\lib\\site-packages (from matplotlib->-r requirements.txt (line 4)) (1.3.2)\n",
      "Requirement already satisfied: cycler>=0.10 in c:\\users\\pranav.moothedath\\downloads\\abhay\\deep-q-learning-oopt\\.venv\\lib\\site-packages (from matplotlib->-r requirements.txt (line 4)) (0.12.1)\n",
      "Requirement already satisfied: fonttools>=4.22.0 in c:\\users\\pranav.moothedath\\downloads\\abhay\\deep-q-learning-oopt\\.venv\\lib\\site-packages (from matplotlib->-r requirements.txt (line 4)) (4.58.4)\n",
      "Requirement already satisfied: kiwisolver>=1.3.1 in c:\\users\\pranav.moothedath\\downloads\\abhay\\deep-q-learning-oopt\\.venv\\lib\\site-packages (from matplotlib->-r requirements.txt (line 4)) (1.4.8)\n",
      "Requirement already satisfied: packaging>=20.0 in c:\\users\\pranav.moothedath\\downloads\\abhay\\deep-q-learning-oopt\\.venv\\lib\\site-packages (from matplotlib->-r requirements.txt (line 4)) (25.0)\n",
      "Requirement already satisfied: pillow>=8 in c:\\users\\pranav.moothedath\\downloads\\abhay\\deep-q-learning-oopt\\.venv\\lib\\site-packages (from matplotlib->-r requirements.txt (line 4)) (11.3.0)\n",
      "Requirement already satisfied: pyparsing>=2.3.1 in c:\\users\\pranav.moothedath\\downloads\\abhay\\deep-q-learning-oopt\\.venv\\lib\\site-packages (from matplotlib->-r requirements.txt (line 4)) (3.2.3)\n",
      "Requirement already satisfied: six>=1.5 in c:\\users\\pranav.moothedath\\downloads\\abhay\\deep-q-learning-oopt\\.venv\\lib\\site-packages (from python-dateutil>=2.8.2->pandas->-r requirements.txt (line 2)) (1.17.0)\n",
      "Requirement already satisfied: mpmath<1.4,>=1.1.0 in c:\\users\\pranav.moothedath\\downloads\\abhay\\deep-q-learning-oopt\\.venv\\lib\\site-packages (from sympy>=1.13.3->torch->-r requirements.txt (line 3)) (1.3.0)\n",
      "Requirement already satisfied: MarkupSafe>=2.0 in c:\\users\\pranav.moothedath\\downloads\\abhay\\deep-q-learning-oopt\\.venv\\lib\\site-packages (from jinja2->torch->-r requirements.txt (line 3)) (3.0.2)\n",
      "Note: you may need to restart the kernel to use updated packages.\n"
     ]
    }
   ],
   "source": [
    "%pip install -r requirements.txt"
   ]
  }
 ],
 "metadata": {
  "kernelspec": {
   "display_name": ".venv",
   "language": "python",
   "name": "python3"
  },
  "language_info": {
   "codemirror_mode": {
    "name": "ipython",
    "version": 3
   },
   "file_extension": ".py",
   "mimetype": "text/x-python",
   "name": "python",
   "nbconvert_exporter": "python",
   "pygments_lexer": "ipython3",
   "version": "3.12.8"
  }
 },
 "nbformat": 4,
 "nbformat_minor": 2
}
